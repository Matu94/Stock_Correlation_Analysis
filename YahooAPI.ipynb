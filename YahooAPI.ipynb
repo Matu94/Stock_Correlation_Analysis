{
 "cells": [
  {
   "cell_type": "markdown",
   "id": "2f06394b",
   "metadata": {},
   "source": [
    "##     Yahoo Finance: https://finance.yahoo.com/\n",
    "##    Yfinance documentation: https://pypi.org/project/yfinance/#installation\n",
    "##    Yahoo Finance APIs article: https://algotrading101.com/learn/yahoo-finance-api-guide/"
   ]
  },
  {
   "cell_type": "code",
   "execution_count": null,
   "id": "23ebec18",
   "metadata": {},
   "outputs": [],
   "source": []
  },
  {
   "cell_type": "code",
   "execution_count": null,
   "id": "944aa50e",
   "metadata": {},
   "outputs": [],
   "source": []
  }
 ],
 "metadata": {
  "kernelspec": {
   "display_name": "Python 3 (ipykernel)",
   "language": "python",
   "name": "python3"
  },
  "language_info": {
   "codemirror_mode": {
    "name": "ipython",
    "version": 3
   },
   "file_extension": ".py",
   "mimetype": "text/x-python",
   "name": "python",
   "nbconvert_exporter": "python",
   "pygments_lexer": "ipython3",
   "version": "3.10.2"
  }
 },
 "nbformat": 4,
 "nbformat_minor": 5
}
